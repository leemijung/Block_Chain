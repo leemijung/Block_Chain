{
  "nbformat": 4,
  "nbformat_minor": 0,
  "metadata": {
    "kernelspec": {
      "display_name": "Python 3",
      "language": "python",
      "name": "python3"
    },
    "language_info": {
      "codemirror_mode": {
        "name": "ipython",
        "version": 3
      },
      "file_extension": ".py",
      "mimetype": "text/x-python",
      "name": "python",
      "nbconvert_exporter": "python",
      "pygments_lexer": "ipython3",
      "version": "3.8.3"
    },
    "colab": {
      "name": "hw_6.ipynb",
      "provenance": [],
      "include_colab_link": true
    }
  },
  "cells": [
    {
      "cell_type": "markdown",
      "metadata": {
        "id": "view-in-github",
        "colab_type": "text"
      },
      "source": [
        "<a href=\"https://colab.research.google.com/github/leemijung/Block_Chain/blob/main/hw_6.ipynb\" target=\"_parent\"><img src=\"https://colab.research.google.com/assets/colab-badge.svg\" alt=\"Open In Colab\"/></a>"
      ]
    },
    {
      "cell_type": "markdown",
      "metadata": {
        "id": "xlicQzBIwWfD"
      },
      "source": [
        "1번문제"
      ]
    },
    {
      "cell_type": "code",
      "metadata": {
        "id": "kjL2Xm0HwWfM",
        "outputId": "8b3545bc-7b7c-490f-df48-7cd0c9b1e53f"
      },
      "source": [
        "%%writefile src/getAccount0.js\n",
        "var Web3=require('web3');\n",
        "var web3 = new Web3(new Web3.providers.HttpProvider(\"http://localhost:8445\"))\n",
        "async function getCoinbaseBalance(){\n",
        "    try {\n",
        "        coinbase=await web3.eth.getCoinbase();\n",
        "        balanceOfCoinbase=await web3.eth.getBalance(coinbase);\n",
        "        console.log(\"coinbase: \"+coinbase+\"\\nbalance: \"+balanceOfCoinbase);\n",
        "    } catch(e) { console.error(e) }\n",
        "}\n",
        "getCoinbaseBalance();"
      ],
      "execution_count": null,
      "outputs": [
        {
          "output_type": "stream",
          "text": [
            "Overwriting src/getAccount0.js\n"
          ],
          "name": "stdout"
        }
      ]
    },
    {
      "cell_type": "code",
      "metadata": {
        "id": "-UZ7JAkKwWfO",
        "outputId": "601d45da-39c5-4e31-ed50-cf32c5a1079a"
      },
      "source": [
        "!node src/getAccount0.js"
      ],
      "execution_count": null,
      "outputs": [
        {
          "output_type": "stream",
          "text": [
            "coinbase: 0x6bb0f1dc306abe5bf8d3a09c4bec5ba3b5d54a8b"
          ],
          "name": "stdout"
        },
        {
          "output_type": "stream",
          "text": [
            "web3-shh package will be deprecated in version 1.3.5 and will no longer be supported.\n",
            "web3-bzz package will be deprecated in version 1.3.5 and will no longer be supported.\n"
          ],
          "name": "stderr"
        },
        {
          "output_type": "stream",
          "text": [
            "\n",
            "balance: 115000000000000000000\n"
          ],
          "name": "stdout"
        }
      ]
    },
    {
      "cell_type": "code",
      "metadata": {
        "id": "IAALswmrwWfP",
        "outputId": "4236d2b7-b0fe-4ce7-be6f-b266db7e685d"
      },
      "source": [
        "%%writefile src/getAccount0.js\n",
        "var Web3=require('web3');\n",
        "var web3 = new Web3(new Web3.providers.HttpProvider(\"http://localhost:8445\"))\n",
        "var coinbase = web3.eth.getAccounts().then(function(accounts) {\n",
        "        console.log(accounts[0]);\n",
        "        return accounts[0];\n",
        "    });\n",
        "console.log(\"<Global> coinbase: \"+coinbase); //저장 못함"
      ],
      "execution_count": null,
      "outputs": [
        {
          "output_type": "stream",
          "text": [
            "Overwriting src/getAccount0.js\n"
          ],
          "name": "stdout"
        }
      ]
    },
    {
      "cell_type": "code",
      "metadata": {
        "id": "1hdibFb4wWfQ",
        "outputId": "1b57d72d-074c-427d-9474-44c0bb2a216b"
      },
      "source": [
        "!node src/getAccount0.js"
      ],
      "execution_count": null,
      "outputs": [
        {
          "output_type": "stream",
          "text": [
            "coinbase: 0x6bb0f1dc306abe5bf8d3a09c4bec5ba3b5d54a8b"
          ],
          "name": "stdout"
        },
        {
          "output_type": "stream",
          "text": [
            "web3-shh package will be deprecated in version 1.3.5 and will no longer be supported.\n",
            "web3-bzz package will be deprecated in version 1.3.5 and will no longer be supported.\n"
          ],
          "name": "stderr"
        },
        {
          "output_type": "stream",
          "text": [
            "\n",
            "balance: 115000000000000000000\n"
          ],
          "name": "stdout"
        }
      ]
    },
    {
      "cell_type": "code",
      "metadata": {
        "id": "BrTbqjpvwWfR",
        "outputId": "10719150-84ed-4ba6-ac6c-ae85d67e61f8"
      },
      "source": [
        "%%writefile src/computeBalance0.js\n",
        "var Web3=require('web3');\n",
        "var web3 = new Web3(new Web3.providers.HttpProvider(\"http://localhost:8445\"));\n",
        "var coinbase=\"0x6bb0f1dc306abe5bf8d3a09c4bec5ba3b5d54a8b\"; //하드코딩\n",
        "var balanceOfCoinbase;\n",
        "var balanceOfCoinbase=web3.eth.getBalance(coinbase).then(function(wei) {\n",
        "        console.log(wei);\n",
        "        return wei;\n",
        "    });\n",
        "console.log(\"<Global> coinbase: \"+coinbase+\" balance: \"+balanceOfCoinbase); //저장 못함"
      ],
      "execution_count": null,
      "outputs": [
        {
          "output_type": "stream",
          "text": [
            "Overwriting src/computeBalance0.js\n"
          ],
          "name": "stdout"
        }
      ]
    },
    {
      "cell_type": "code",
      "metadata": {
        "id": "BxCEXh1YwWfR",
        "outputId": "54cba7ef-e95d-4a35-8b3e-d812c9c8aa39"
      },
      "source": [
        "!node src/computeBalance0.js"
      ],
      "execution_count": null,
      "outputs": [
        {
          "output_type": "stream",
          "text": [
            "<Global> coinbase: 0x6bb0f1dc306abe5bf8d3a09c4bec5ba3b5d54a8b balance: [object Promise]\n",
            "115000000000000000000\n"
          ],
          "name": "stdout"
        },
        {
          "output_type": "stream",
          "text": [
            "web3-shh package will be deprecated in version 1.3.5 and will no longer be supported.\n",
            "web3-bzz package will be deprecated in version 1.3.5 and will no longer be supported.\n"
          ],
          "name": "stderr"
        }
      ]
    },
    {
      "cell_type": "code",
      "metadata": {
        "id": "MdaNaPhawWfS",
        "outputId": "deec7f2c-1923-4327-b2df-a621766395db"
      },
      "source": [
        "%%writefile src/sendFromGanacheToGeth.js\n",
        "var Web3=require('web3');\n",
        "var web3 = new Web3(new Web3.providers.HttpProvider(\"http://localhost:8345\"));\n",
        "var myAmount=web3.utils.toWei('1','ether');\n",
        "web3.eth.sendTransaction({from:'0xfe20D258E4A2Ce167471A26E0EdFdf5aB4633a58',\n",
        "                          to:'0x6bb0f1dc306abe5bf8d3a09c4bec5ba3b5d54a8b',\n",
        "                          gas: 1000000,\n",
        "                          value:myAmount})\n",
        "var balanceOfGeth=web3.eth.getBalance('0x6bb0f1dc306abe5bf8d3a09c4bec5ba3b5d54a8b').then(function(wei) {\n",
        "        console.log(\"Geth: \"+wei);\n",
        "        return wei;\n",
        "    });\n",
        "var balanceOfGanche=web3.eth.getBalance('0xfe20D258E4A2Ce167471A26E0EdFdf5aB4633a58').then(function(wei) {\n",
        "        console.log(\"Ganche: \"+wei);\n",
        "        return wei;\n",
        "    });"
      ],
      "execution_count": null,
      "outputs": [
        {
          "output_type": "stream",
          "text": [
            "Overwriting src/sendFromGanacheToGeth.js\n"
          ],
          "name": "stdout"
        }
      ]
    },
    {
      "cell_type": "code",
      "metadata": {
        "id": "fbwsyJM-wWfT",
        "outputId": "6a4c3f9e-6671-4078-8dba-10c9eafababa"
      },
      "source": [
        "!node src/sendFromGanacheToGeth.js"
      ],
      "execution_count": null,
      "outputs": [
        {
          "output_type": "stream",
          "text": [
            "Geth: 3000000000000000000\n",
            "Ganche: 96998740000000000000\n"
          ],
          "name": "stdout"
        },
        {
          "output_type": "stream",
          "text": [
            "web3-shh package will be deprecated in version 1.3.5 and will no longer be supported.\n",
            "web3-bzz package will be deprecated in version 1.3.5 and will no longer be supported.\n"
          ],
          "name": "stderr"
        }
      ]
    },
    {
      "cell_type": "markdown",
      "metadata": {
        "id": "duIflp4kwWfU"
      },
      "source": [
        "2번문제"
      ]
    },
    {
      "cell_type": "code",
      "metadata": {
        "id": "WMMtRY6PwWfV",
        "outputId": "f221fc65-b644-44c2-cdb4-d9cf6758abfb"
      },
      "source": [
        "%%writefile src/coinbaseBalance1.js\n",
        "var Web3=require('web3');\n",
        "var web3 = new Web3(new Web3.providers.HttpProvider(\"http://localhost:8345\"))\n",
        "web3.eth.getBalance(\"0xfe20D258E4A2Ce167471A26E0EdFdf5aB4633a58\").then(function(wei){\n",
        "    var eth=web3.utils.fromWei(wei, 'ether');\n",
        "    console.log(eth+\" ether\");\n",
        "    console.log(eth*2669750+\" won\");\n",
        "});"
      ],
      "execution_count": null,
      "outputs": [
        {
          "output_type": "stream",
          "text": [
            "Overwriting src/coinbaseBalance1.js\n"
          ],
          "name": "stdout"
        }
      ]
    },
    {
      "cell_type": "code",
      "metadata": {
        "id": "Gb-5w4cbwWfV",
        "outputId": "4d6727a5-5b73-4196-991c-b33ce9bc1123"
      },
      "source": [
        "!node src/coinbaseBalance1.js"
      ],
      "execution_count": null,
      "outputs": [
        {
          "output_type": "stream",
          "text": [
            "95.99732 ether"
          ],
          "name": "stdout"
        },
        {
          "output_type": "stream",
          "text": [
            "web3-shh package will be deprecated in version 1.3.5 and will no longer be supported.\n",
            "web3-bzz package will be deprecated in version 1.3.5 and will no longer be supported.\n"
          ],
          "name": "stderr"
        },
        {
          "output_type": "stream",
          "text": [
            "\n",
            "256288845.07 won\n"
          ],
          "name": "stdout"
        }
      ]
    }
  ]
}