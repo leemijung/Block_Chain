{
  "nbformat": 4,
  "nbformat_minor": 0,
  "metadata": {
    "kernelspec": {
      "display_name": "Python 3",
      "language": "python",
      "name": "python3"
    },
    "language_info": {
      "codemirror_mode": {
        "name": "ipython",
        "version": 3
      },
      "file_extension": ".py",
      "mimetype": "text/x-python",
      "name": "python",
      "nbconvert_exporter": "python",
      "pygments_lexer": "ipython3",
      "version": "3.8.3"
    },
    "colab": {
      "name": "hw_7.ipynb",
      "provenance": [],
      "include_colab_link": true
    }
  },
  "cells": [
    {
      "cell_type": "markdown",
      "metadata": {
        "id": "view-in-github",
        "colab_type": "text"
      },
      "source": [
        "<a href=\"https://colab.research.google.com/github/leemijung/Block_Chain/blob/main/hw_7.ipynb\" target=\"_parent\"><img src=\"https://colab.research.google.com/assets/colab-badge.svg\" alt=\"Open In Colab\"/></a>"
      ]
    },
    {
      "cell_type": "markdown",
      "metadata": {
        "id": "_tIyajb70FZ6"
      },
      "source": [
        "Solidity로 Hello.sol을 코딩"
      ]
    },
    {
      "cell_type": "code",
      "metadata": {
        "id": "m0ZF_WGS0FaP",
        "outputId": "493523de-e8ea-4c67-da6a-f19de409873d"
      },
      "source": [
        "%%writefile src/Hello.sol\n",
        "pragma solidity ^0.6.0;\n",
        "\n",
        "contract Hello{\n",
        "    function sayHello() pure public returns(string memory){\n",
        "        return \"Hello, Snowman\";\n",
        "    }\n",
        "}"
      ],
      "execution_count": null,
      "outputs": [
        {
          "output_type": "stream",
          "text": [
            "Overwriting src/Hello.sol\n"
          ],
          "name": "stdout"
        }
      ]
    },
    {
      "cell_type": "markdown",
      "metadata": {
        "id": "ZIbVtiVe0FaR"
      },
      "source": [
        "solc로 컴파일"
      ]
    },
    {
      "cell_type": "code",
      "metadata": {
        "id": "GEp2iGXY0FaS",
        "outputId": "4e99c1a2-d470-40fd-d2cf-3345b8e790fd"
      },
      "source": [
        "!solc --asm src/Hello.sol"
      ],
      "execution_count": null,
      "outputs": [
        {
          "output_type": "stream",
          "text": [
            "\n",
            "======= src/Hello.sol:Hello =======\n",
            "EVM assembly:\n",
            "    /* \"src/Hello.sol\":27:147  contract Hello{\n",
            "... */\n",
            "  mstore(0x40, 0x80)\n",
            "  callvalue\n",
            "    /* \"--CODEGEN--\":5:14   */\n",
            "  dup1\n",
            "    /* \"--CODEGEN--\":2:4   */\n",
            "  iszero\n",
            "  tag_1\n",
            "  jumpi\n",
            "    /* \"--CODEGEN--\":27:28   */\n",
            "  0x00\n",
            "    /* \"--CODEGEN--\":24:25   */\n",
            "  dup1\n",
            "    /* \"--CODEGEN--\":17:29   */\n",
            "  revert\n",
            "    /* \"--CODEGEN--\":2:4   */\n",
            "tag_1:\n",
            "    /* \"src/Hello.sol\":27:147  contract Hello{\n",
            "... */\n",
            "  pop\n",
            "  dataSize(sub_0)\n",
            "  dup1\n",
            "  dataOffset(sub_0)\n",
            "  0x00\n",
            "  codecopy\n",
            "  0x00\n",
            "  return\n",
            "stop\n",
            "\n",
            "sub_0: assembly {\n",
            "        /* \"src/Hello.sol\":27:147  contract Hello{\n",
            "... */\n",
            "      mstore(0x40, 0x80)\n",
            "      callvalue\n",
            "        /* \"--CODEGEN--\":5:14   */\n",
            "      dup1\n",
            "        /* \"--CODEGEN--\":2:4   */\n",
            "      iszero\n",
            "      tag_1\n",
            "      jumpi\n",
            "        /* \"--CODEGEN--\":27:28   */\n",
            "      0x00\n",
            "        /* \"--CODEGEN--\":24:25   */\n",
            "      dup1\n",
            "        /* \"--CODEGEN--\":17:29   */\n",
            "      revert\n",
            "        /* \"--CODEGEN--\":2:4   */\n",
            "    tag_1:\n",
            "        /* \"src/Hello.sol\":27:147  contract Hello{\n",
            "... */\n",
            "      pop\n",
            "      jumpi(tag_2, lt(calldatasize, 0x04))\n",
            "      shr(0xe0, calldataload(0x00))\n",
            "      dup1\n",
            "      0xef5fb05b\n",
            "      eq\n",
            "      tag_3\n",
            "      jumpi\n",
            "    tag_2:\n",
            "        /* \"--CODEGEN--\":12:13   */\n",
            "      0x00\n",
            "        /* \"--CODEGEN--\":9:10   */\n",
            "      dup1\n",
            "        /* \"--CODEGEN--\":2:14   */\n",
            "      revert\n",
            "        /* \"src/Hello.sol\":48:144  function sayHello() pure public returns(string memory){\n",
            "... */\n",
            "    tag_3:\n",
            "      tag_4\n",
            "      tag_5\n",
            "      jump\t// in\n",
            "    tag_4:\n",
            "      mload(0x40)\n",
            "      dup1\n",
            "      dup1\n",
            "      0x20\n",
            "      add\n",
            "      dup3\n",
            "      dup2\n",
            "      sub\n",
            "      dup3\n",
            "      mstore\n",
            "      dup4\n",
            "      dup2\n",
            "      dup2\n",
            "      mload\n",
            "      dup2\n",
            "      mstore\n",
            "      0x20\n",
            "      add\n",
            "      swap2\n",
            "      pop\n",
            "      dup1\n",
            "      mload\n",
            "      swap1\n",
            "      0x20\n",
            "      add\n",
            "      swap1\n",
            "      dup1\n",
            "      dup4\n",
            "      dup4\n",
            "        /* \"--CODEGEN--\":23:24   */\n",
            "      0x00\n",
            "        /* \"--CODEGEN--\":8:108   */\n",
            "    tag_6:\n",
            "        /* \"--CODEGEN--\":33:36   */\n",
            "      dup4\n",
            "        /* \"--CODEGEN--\":30:31   */\n",
            "      dup2\n",
            "        /* \"--CODEGEN--\":27:37   */\n",
            "      lt\n",
            "        /* \"--CODEGEN--\":8:108   */\n",
            "      iszero\n",
            "      tag_8\n",
            "      jumpi\n",
            "        /* \"--CODEGEN--\":99:100   */\n",
            "      dup1\n",
            "        /* \"--CODEGEN--\":94:97   */\n",
            "      dup3\n",
            "        /* \"--CODEGEN--\":90:101   */\n",
            "      add\n",
            "        /* \"--CODEGEN--\":84:102   */\n",
            "      mload\n",
            "        /* \"--CODEGEN--\":80:81   */\n",
            "      dup2\n",
            "        /* \"--CODEGEN--\":75:78   */\n",
            "      dup5\n",
            "        /* \"--CODEGEN--\":71:82   */\n",
            "      add\n",
            "        /* \"--CODEGEN--\":64:103   */\n",
            "      mstore\n",
            "        /* \"--CODEGEN--\":52:54   */\n",
            "      0x20\n",
            "        /* \"--CODEGEN--\":49:50   */\n",
            "      dup2\n",
            "        /* \"--CODEGEN--\":45:55   */\n",
            "      add\n",
            "        /* \"--CODEGEN--\":40:55   */\n",
            "      swap1\n",
            "      pop\n",
            "        /* \"--CODEGEN--\":8:108   */\n",
            "      jump(tag_6)\n",
            "    tag_8:\n",
            "        /* \"--CODEGEN--\":12:26   */\n",
            "      pop\n",
            "        /* \"src/Hello.sol\":48:144  function sayHello() pure public returns(string memory){\n",
            "... */\n",
            "      pop\n",
            "      pop\n",
            "      pop\n",
            "      swap1\n",
            "      pop\n",
            "      swap1\n",
            "      dup2\n",
            "      add\n",
            "      swap1\n",
            "      0x1f\n",
            "      and\n",
            "      dup1\n",
            "      iszero\n",
            "      tag_9\n",
            "      jumpi\n",
            "      dup1\n",
            "      dup3\n",
            "      sub\n",
            "      dup1\n",
            "      mload\n",
            "      0x01\n",
            "      dup4\n",
            "      0x20\n",
            "      sub\n",
            "      0x0100\n",
            "      exp\n",
            "      sub\n",
            "      not\n",
            "      and\n",
            "      dup2\n",
            "      mstore\n",
            "      0x20\n",
            "      add\n",
            "      swap2\n",
            "      pop\n",
            "    tag_9:\n",
            "      pop\n",
            "      swap3\n",
            "      pop\n",
            "      pop\n",
            "      pop\n",
            "      mload(0x40)\n",
            "      dup1\n",
            "      swap2\n",
            "      sub\n",
            "      swap1\n",
            "      return\n",
            "    tag_5:\n",
            "        /* \"src/Hello.sol\":88:101  string memory */\n",
            "      0x60\n",
            "        /* \"src/Hello.sol\":113:136  return \"Hello, Snowman\" */\n",
            "      mload(0x40)\n",
            "      dup1\n",
            "      0x40\n",
            "      add\n",
            "      0x40\n",
            "      mstore\n",
            "      dup1\n",
            "      0x0e\n",
            "      dup2\n",
            "      mstore\n",
            "      0x20\n",
            "      add\n",
            "      0x48656c6c6f2c20536e6f776d616e000000000000000000000000000000000000\n",
            "      dup2\n",
            "      mstore\n",
            "      pop\n",
            "      swap1\n",
            "      pop\n",
            "        /* \"src/Hello.sol\":48:144  function sayHello() pure public returns(string memory){\n",
            "... */\n",
            "      swap1\n",
            "      jump\t// out\n",
            "\n",
            "    auxdata: 0xa2646970667358221220c0bc42fee8959012fcb7f78f8bc73c5029c3321b79b25819420b0a21ebdec48364736f6c63430006040033\n",
            "}\n",
            "\n"
          ],
          "name": "stdout"
        }
      ]
    },
    {
      "cell_type": "code",
      "metadata": {
        "id": "iWBvg6-C0FaS",
        "outputId": "bdf1e73d-5510-4db3-bc40-efd776365b80"
      },
      "source": [
        "!solc --version"
      ],
      "execution_count": null,
      "outputs": [
        {
          "output_type": "stream",
          "text": [
            "solc, the solidity compiler commandline interface\n",
            "Version: 0.6.4+commit.1dca32f3.Windows.msvc\n"
          ],
          "name": "stdout"
        }
      ]
    },
    {
      "cell_type": "code",
      "metadata": {
        "id": "A_60VJdk0FaT",
        "outputId": "834e0957-459b-4ace-de11-a636ab34660f"
      },
      "source": [
        "!solc --abi --bin --gas src/Hello.sol"
      ],
      "execution_count": null,
      "outputs": [
        {
          "output_type": "stream",
          "text": [
            "\n",
            "======= src/Hello.sol:Hello =======\n",
            "Gas estimation:\n",
            "construction:\n",
            "   105 + 57200 = 57305\n",
            "external:\n",
            "   sayHello():\tinfinite\n",
            "Binary:\n",
            "608060405234801561001057600080fd5b5061011e806100206000396000f3fe6080604052348015600f57600080fd5b506004361060285760003560e01c8063ef5fb05b14602d575b600080fd5b603360ab565b6040518080602001828103825283818151815260200191508051906020019080838360005b8381101560715780820151818401526020810190506058565b50505050905090810190601f168015609d5780820380516001836020036101000a031916815260200191505b509250505060405180910390f35b60606040518060400160405280600e81526020017f48656c6c6f2c20536e6f776d616e00000000000000000000000000000000000081525090509056fea2646970667358221220c0bc42fee8959012fcb7f78f8bc73c5029c3321b79b25819420b0a21ebdec48364736f6c63430006040033\n",
            "Contract JSON ABI\n",
            "[{\"inputs\":[],\"name\":\"sayHello\",\"outputs\":[{\"internalType\":\"string\",\"name\":\"\",\"type\":\"string\"}],\"stateMutability\":\"pure\",\"type\":\"function\"}]\n"
          ],
          "name": "stdout"
        }
      ]
    },
    {
      "cell_type": "markdown",
      "metadata": {
        "id": "iqm_j_rw0FaT"
      },
      "source": [
        "web3.js를 사용하여 node로 프로그램해서 배포"
      ]
    },
    {
      "cell_type": "code",
      "metadata": {
        "id": "rhSrunqT0FaT",
        "outputId": "6a1a14c7-6cb3-4b71-a6c3-9c74fadaf459"
      },
      "source": [
        "%%writefile src/HelloDeploy.js\n",
        "var Web3=require('web3');\n",
        "var web3=new Web3(new Web3.providers.HttpProvider(\"http://localhost:8345\"))\n",
        "var helloContract = new web3.eth.Contract([{\"inputs\":[],\"name\":\"sayHello\",\"outputs\":[{\"internalType\":\"string\",\"name\":\"\",\"type\":\"string\"}],\"stateMutability\":\"pure\",\"type\":\"function\"}]);\n",
        "var hello = helloContract.deploy({\n",
        "     data: '0x608060405234801561001057600080fd5b5061011e806100206000396000f3fe6080604052348015600f57600080fd5b506004361060285760003560e01c8063ef5fb05b14602d575b600080fd5b603360ab565b6040518080602001828103825283818151815260200191508051906020019080838360005b8381101560715780820151818401526020810190506058565b50505050905090810190601f168015609d5780820380516001836020036101000a031916815260200191505b509250505060405180910390f35b60606040518060400160405280600e81526020017f48656c6c6f2c20536e6f776d616e00000000000000000000000000000000000081525090509056fea2646970667358221220e3a36df3d4de18d99b65156d96f6e45961bb6094814f71271be8abc22932bc8764736f6c63430006040033', \n",
        "     arguments: [\n",
        "     ]\n",
        "}).send({\n",
        "     from: \"0x0f1aBa3c5169B9fD28c9018632b745a8F4Ab9a07\", \n",
        "     gas: '4700000'\n",
        "    } , function(error, transactionHash) {\n",
        "              console.log(error, transactionHash);\n",
        "    })\n",
        "    .then(function(newContractInstance){\n",
        "        console.log(newContractInstance.options.address)\n",
        "})"
      ],
      "execution_count": null,
      "outputs": [
        {
          "output_type": "stream",
          "text": [
            "Overwriting src/HelloDeploy.js\n"
          ],
          "name": "stdout"
        }
      ]
    },
    {
      "cell_type": "code",
      "metadata": {
        "id": "U9a2kFSp0FaU",
        "outputId": "4ec8f9d7-e51d-444c-9caf-bcca3f446274"
      },
      "source": [
        "!node src/HelloDeploy.js"
      ],
      "execution_count": null,
      "outputs": [
        {
          "output_type": "stream",
          "text": [
            "null 0x74ea232dc7336d6255a56957e7528558a033dc2aaac68466694d9530b3f137ee"
          ],
          "name": "stdout"
        },
        {
          "output_type": "stream",
          "text": [
            "web3-shh package will be deprecated in version 1.3.5 and will no longer be supported.\n",
            "web3-bzz package will be deprecated in version 1.3.5 and will no longer be supported.\n"
          ],
          "name": "stderr"
        },
        {
          "output_type": "stream",
          "text": [
            "\n",
            "0xcDCee5450821B5CA85c2cB35721aE68493a45B78\n"
          ],
          "name": "stdout"
        }
      ]
    },
    {
      "cell_type": "markdown",
      "metadata": {
        "id": "3g8qnCPT0FaV"
      },
      "source": [
        "web3.js를 사용하여 node로 sayHello() 출력"
      ]
    },
    {
      "cell_type": "code",
      "metadata": {
        "id": "HbQgg7l50FaV",
        "outputId": "dc7d09ac-1809-4809-b02f-764cdd6719d5"
      },
      "source": [
        "%%writefile src/HelloUse.js\n",
        "var Web3=require('web3');\n",
        "var web3=new Web3(new Web3.providers.HttpProvider(\"http://localhost:8345\"));\n",
        "var shelloContract = new web3.eth.Contract([{\"inputs\":[],\"name\":\"sayHello\",\"outputs\":[{\"internalType\":\"string\",\"name\":\"\",\"type\":\"string\"}],\"stateMutability\":\"pure\",\"type\":\"function\"}]\n",
        "                                          , \"0xcDCee5450821B5CA85c2cB35721aE68493a45B78\");\n",
        "shelloContract.methods.sayHello().call().then(function(str){console.log(str);});"
      ],
      "execution_count": null,
      "outputs": [
        {
          "output_type": "stream",
          "text": [
            "Overwriting src/HelloUse.js\n"
          ],
          "name": "stdout"
        }
      ]
    },
    {
      "cell_type": "code",
      "metadata": {
        "id": "urlk9dYd0FaW",
        "outputId": "ca032a00-7437-4cd3-e0b0-29b066627bcb"
      },
      "source": [
        "!node src/HelloUse.js"
      ],
      "execution_count": null,
      "outputs": [
        {
          "output_type": "stream",
          "text": [
            "Hello, Snowman"
          ],
          "name": "stdout"
        },
        {
          "output_type": "stream",
          "text": [
            "web3-shh package will be deprecated in version 1.3.5 and will no longer be supported.\n",
            "web3-bzz package will be deprecated in version 1.3.5 and will no longer be supported.\n"
          ],
          "name": "stderr"
        },
        {
          "output_type": "stream",
          "text": [
            "\n"
          ],
          "name": "stdout"
        }
      ]
    }
  ]
}